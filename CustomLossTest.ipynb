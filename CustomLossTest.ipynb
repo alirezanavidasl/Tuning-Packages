{
  "nbformat": 4,
  "nbformat_minor": 0,
  "metadata": {
    "colab": {
      "name": "Untitled16.ipynb",
      "provenance": []
    },
    "kernelspec": {
      "name": "python3",
      "display_name": "Python 3"
    },
    "language_info": {
      "name": "python"
    }
  },
  "cells": [
    {
      "cell_type": "code",
      "metadata": {
        "id": "M2KVGCPi8rca"
      },
      "source": [
        "import tensorflow as tf\n",
        "import numpy as np\n",
        "from tensorflow.keras.metrics import mean_squared_error"
      ],
      "execution_count": 1,
      "outputs": []
    },
    {
      "cell_type": "code",
      "metadata": {
        "id": "Zdzpcpsk8xMS"
      },
      "source": [
        "y_pred=tf.constant([1.1,20.2,230.3,120.4,500.2,6.3])\n",
        "y_true=tf.add(y_pred,tf.ones_like(y_pred))"
      ],
      "execution_count": 2,
      "outputs": []
    },
    {
      "cell_type": "code",
      "metadata": {
        "colab": {
          "base_uri": "https://localhost:8080/"
        },
        "id": "ZcZIq8mp89nX",
        "outputId": "b4364ed0-84c7-4abe-ad73-ec4e1cf86e58"
      },
      "source": [
        "print(y_pred)\n",
        "print(y_true)"
      ],
      "execution_count": 3,
      "outputs": [
        {
          "output_type": "stream",
          "name": "stdout",
          "text": [
            "tf.Tensor([  1.1  20.2 230.3 120.4 500.2   6.3], shape=(6,), dtype=float32)\n",
            "tf.Tensor([  2.1  21.2 231.3 121.4 501.2   7.3], shape=(6,), dtype=float32)\n"
          ]
        }
      ]
    },
    {
      "cell_type": "code",
      "metadata": {
        "colab": {
          "base_uri": "https://localhost:8080/"
        },
        "id": "6peRl5ztCH_Y",
        "outputId": "deb618db-6004-486a-a814-7769c4fb6105"
      },
      "source": [
        "tf.math.reduce_variance(y_true)"
      ],
      "execution_count": 6,
      "outputs": [
        {
          "output_type": "execute_result",
          "data": {
            "text/plain": [
              "<tf.Tensor: shape=(), dtype=float32, numpy=31592.697>"
            ]
          },
          "metadata": {},
          "execution_count": 6
        }
      ]
    },
    {
      "cell_type": "code",
      "metadata": {
        "id": "SO6LZ3Ui9Jg0"
      },
      "source": [
        "y_true_next = y_true[1:]\n",
        "y_pred_next = y_pred[1:]\n",
        "#extract the \"today's price\" of tensor\n",
        "y_true_tdy = y_true[:-1]\n",
        "y_pred_tdy = y_pred[:-1]"
      ],
      "execution_count": null,
      "outputs": []
    },
    {
      "cell_type": "code",
      "metadata": {
        "colab": {
          "base_uri": "https://localhost:8080/"
        },
        "id": "FgEpE_sa9abr",
        "outputId": "758d4011-05db-4bd5-f0a3-9131684955aa"
      },
      "source": [
        "y_true_tdy"
      ],
      "execution_count": null,
      "outputs": [
        {
          "output_type": "execute_result",
          "data": {
            "text/plain": [
              "<tf.Tensor: shape=(5,), dtype=float32, numpy=array([2.1, 3.2, 4.3, 5.4, 6.2], dtype=float32)>"
            ]
          },
          "metadata": {},
          "execution_count": 5
        }
      ]
    },
    {
      "cell_type": "code",
      "metadata": {
        "id": "27MbA6x69szb"
      },
      "source": [
        "#substract to get up/down movement of the two tensors\n",
        "y_true_diff = tf.subtract(y_true_next, y_true_tdy)\n",
        "y_pred_diff = tf.subtract(y_pred_next, y_pred_tdy)\n",
        "#create a standard tensor with zero value for comparison\n",
        "standard = tf.zeros_like(y_pred_diff)\n",
        "#compare with the standard; if true, UP; else DOWN\n",
        "y_true_move = tf.greater_equal(y_true_diff, standard)\n",
        "y_pred_move = tf.greater_equal(y_pred_diff, standard)"
      ],
      "execution_count": null,
      "outputs": []
    },
    {
      "cell_type": "code",
      "metadata": {
        "colab": {
          "base_uri": "https://localhost:8080/"
        },
        "id": "AOwOgXch9w7D",
        "outputId": "00c35932-35f9-4269-8042-f454698d8d64"
      },
      "source": [
        "y_true_move"
      ],
      "execution_count": null,
      "outputs": [
        {
          "output_type": "execute_result",
          "data": {
            "text/plain": [
              "<tf.Tensor: shape=(5,), dtype=bool, numpy=array([ True,  True,  True,  True,  True])>"
            ]
          },
          "metadata": {},
          "execution_count": 12
        }
      ]
    },
    {
      "cell_type": "code",
      "metadata": {
        "id": "95BWrdh599c2"
      },
      "source": [
        "condition = tf.equal(y_true_move, y_pred_move)\n",
        "indices = tf.where(condition)\n",
        "ones = tf.ones_like(indices)\n",
        "# indices = tf.add(indices, ones)"
      ],
      "execution_count": null,
      "outputs": []
    },
    {
      "cell_type": "code",
      "metadata": {
        "colab": {
          "base_uri": "https://localhost:8080/"
        },
        "id": "gnvW9L3Y9-ri",
        "outputId": "051d297e-c2b2-46d1-e21a-e61738c3eaae"
      },
      "source": [
        "indices\n",
        "# ones\n"
      ],
      "execution_count": null,
      "outputs": [
        {
          "output_type": "execute_result",
          "data": {
            "text/plain": [
              "<tf.Tensor: shape=(5, 1), dtype=int64, numpy=\n",
              "array([[1],\n",
              "       [2],\n",
              "       [3],\n",
              "       [4],\n",
              "       [5]])>"
            ]
          },
          "metadata": {},
          "execution_count": 17
        }
      ]
    },
    {
      "cell_type": "code",
      "metadata": {
        "id": "n5p7PpWt-yor"
      },
      "source": [
        "direction_loss = tf.Variable(tf.ones_like(y_pred), dtype='float32')\n",
        "updates = tf.cast(tf.ones((5,)), dtype='float32')\n",
        "alpha = 1000"
      ],
      "execution_count": null,
      "outputs": []
    },
    {
      "cell_type": "code",
      "metadata": {
        "colab": {
          "base_uri": "https://localhost:8080/"
        },
        "id": "ft8WSdsk_Y3z",
        "outputId": "99d790de-4caa-4f92-cfdb-e7427e2f858e"
      },
      "source": [
        "print(direction_loss)\n",
        "print(alpha*updates)\n",
        "print(indices)"
      ],
      "execution_count": null,
      "outputs": [
        {
          "output_type": "stream",
          "name": "stdout",
          "text": [
            "<tf.Variable 'Variable:0' shape=(6,) dtype=float32, numpy=array([1., 1., 1., 1., 1., 1.], dtype=float32)>\n",
            "tf.Tensor([1000. 1000. 1000. 1000. 1000.], shape=(5,), dtype=float32)\n",
            "tf.Tensor(\n",
            "[[0]\n",
            " [1]\n",
            " [2]\n",
            " [3]\n",
            " [4]], shape=(5, 1), dtype=int64)\n"
          ]
        }
      ]
    },
    {
      "cell_type": "code",
      "metadata": {
        "id": "wrO9cOPzAbkc"
      },
      "source": [
        "direction_loss = tf.tensor_scatter_nd_update(direction_loss, indices, alpha*updates)"
      ],
      "execution_count": null,
      "outputs": []
    },
    {
      "cell_type": "code",
      "metadata": {
        "colab": {
          "base_uri": "https://localhost:8080/"
        },
        "id": "Hli8ZpwvAhKe",
        "outputId": "a7f0c910-3cfa-49da-8b73-b8ab2734fb1c"
      },
      "source": [
        "direction_loss"
      ],
      "execution_count": null,
      "outputs": [
        {
          "output_type": "execute_result",
          "data": {
            "text/plain": [
              "<tf.Tensor: shape=(6,), dtype=float32, numpy=array([1000., 1000., 1000., 1000., 1000.,    1.], dtype=float32)>"
            ]
          },
          "metadata": {},
          "execution_count": 37
        }
      ]
    },
    {
      "cell_type": "code",
      "metadata": {
        "id": "5NOpulZmGA7e"
      },
      "source": [
        "loss = tf.Variable(tf.zeros_like(y_pred), dtype='float32')"
      ],
      "execution_count": null,
      "outputs": []
    },
    {
      "cell_type": "code",
      "metadata": {
        "id": "hlWaGdd3GDuS"
      },
      "source": [
        "se=tf.sqrt(tf.subtract(y_true,y_pred))"
      ],
      "execution_count": null,
      "outputs": []
    },
    {
      "cell_type": "code",
      "metadata": {
        "colab": {
          "base_uri": "https://localhost:8080/"
        },
        "id": "GCwGVyoOHd9F",
        "outputId": "3853f432-081e-42f6-d1b9-302878f4980b"
      },
      "source": [
        "se"
      ],
      "execution_count": null,
      "outputs": [
        {
          "output_type": "execute_result",
          "data": {
            "text/plain": [
              "<tf.Tensor: shape=(6,), dtype=float32, numpy=\n",
              "array([0.99999994, 1.        , 1.0000001 , 1.        , 1.        ,\n",
              "       1.        ], dtype=float32)>"
            ]
          },
          "metadata": {},
          "execution_count": 56
        }
      ]
    },
    {
      "cell_type": "code",
      "metadata": {
        "colab": {
          "base_uri": "https://localhost:8080/"
        },
        "id": "mzUPR15WGX83",
        "outputId": "27a09848-1fcb-4c00-d25f-b94ee483c71c"
      },
      "source": [
        "classes_factor=[-np.inf,70.1,100.1,200.1,np.inf]\n",
        "tf.constant(classes_factor[0])"
      ],
      "execution_count": null,
      "outputs": [
        {
          "output_type": "execute_result",
          "data": {
            "text/plain": [
              "<tf.Tensor: shape=(), dtype=float32, numpy=-inf>"
            ]
          },
          "metadata": {},
          "execution_count": 64
        }
      ]
    },
    {
      "cell_type": "code",
      "metadata": {
        "id": "KZDykVmfJO8X"
      },
      "source": [
        "update=tf.ones_like(index,dtype='float32')"
      ],
      "execution_count": null,
      "outputs": []
    },
    {
      "cell_type": "code",
      "metadata": {
        "colab": {
          "base_uri": "https://localhost:8080/"
        },
        "id": "oxZ6ttQcGE0Q",
        "outputId": "b8efdf87-ff88-4625-f3a8-29d61a927cbb"
      },
      "source": [
        "for i in range(1, len(classes_factor)):\n",
        "            index1 = tf.where(tf.logical_and(tf.less_equal(tf.constant(classes_factor[i - 1]), y_true)\n",
        "                               , tf.greater(tf.constant(classes_factor[i]),y_true)))\n",
        "            index2 = tf.logical_and(tf.less_equal(tf.constant(classes_factor[i - 1]), y_true)\n",
        "                               , tf.greater(tf.constant(classes_factor[i]),y_true))\n",
        "            print(index)\n",
        "            update=se[index2]*i\n",
        "            print(update)\n",
        "            loss=tf.tensor_scatter_nd_update(loss, index1, update)"
      ],
      "execution_count": null,
      "outputs": [
        {
          "output_type": "stream",
          "name": "stdout",
          "text": [
            "tf.Tensor(\n",
            "[[0]\n",
            " [1]\n",
            " [2]\n",
            " [3]\n",
            " [4]\n",
            " [5]], shape=(6, 1), dtype=int64)\n",
            "tf.Tensor([0.99999994 1.         1.        ], shape=(3,), dtype=float32)\n",
            "tf.Tensor(\n",
            "[[0]\n",
            " [1]\n",
            " [2]\n",
            " [3]\n",
            " [4]\n",
            " [5]], shape=(6, 1), dtype=int64)\n",
            "tf.Tensor([], shape=(0,), dtype=float32)\n",
            "tf.Tensor(\n",
            "[[0]\n",
            " [1]\n",
            " [2]\n",
            " [3]\n",
            " [4]\n",
            " [5]], shape=(6, 1), dtype=int64)\n",
            "tf.Tensor([3.], shape=(1,), dtype=float32)\n",
            "tf.Tensor(\n",
            "[[0]\n",
            " [1]\n",
            " [2]\n",
            " [3]\n",
            " [4]\n",
            " [5]], shape=(6, 1), dtype=int64)\n",
            "tf.Tensor([4.0000005 4.       ], shape=(2,), dtype=float32)\n"
          ]
        }
      ]
    },
    {
      "cell_type": "code",
      "metadata": {
        "colab": {
          "base_uri": "https://localhost:8080/"
        },
        "id": "awpdh221HN13",
        "outputId": "aef0ac15-3872-4f5d-e2d8-2c8d68e69b50"
      },
      "source": [
        "y_true"
      ],
      "execution_count": null,
      "outputs": [
        {
          "output_type": "execute_result",
          "data": {
            "text/plain": [
              "<tf.Tensor: shape=(6,), dtype=float32, numpy=array([2.1, 3.2, 4.3, 5.4, 6.2, 7.3], dtype=float32)>"
            ]
          },
          "metadata": {},
          "execution_count": 69
        }
      ]
    },
    {
      "cell_type": "code",
      "metadata": {
        "colab": {
          "base_uri": "https://localhost:8080/"
        },
        "id": "4PZ6FbR3KKaK",
        "outputId": "3275e0b7-e9cd-4059-ebb5-05c2b7a38784"
      },
      "source": [
        "loss"
      ],
      "execution_count": null,
      "outputs": [
        {
          "output_type": "execute_result",
          "data": {
            "text/plain": [
              "<tf.Tensor: shape=(6,), dtype=float32, numpy=\n",
              "array([0.99999994, 1.        , 4.0000005 , 3.        , 4.        ,\n",
              "       1.        ], dtype=float32)>"
            ]
          },
          "metadata": {},
          "execution_count": 102
        }
      ]
    }
  ]
}