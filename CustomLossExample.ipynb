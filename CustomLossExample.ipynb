{
  "nbformat": 4,
  "nbformat_minor": 0,
  "metadata": {
    "colab": {
      "name": "CustomLossExample.ipynb",
      "provenance": []
    },
    "kernelspec": {
      "name": "python3",
      "display_name": "Python 3"
    },
    "language_info": {
      "name": "python"
    }
  },
  "cells": [
    {
      "cell_type": "code",
      "metadata": {
        "id": "M2KVGCPi8rca"
      },
      "source": [
        "import tensorflow as tf\n",
        "import numpy as np\n",
        "from tensorflow.keras.metrics import mean_squared_error"
      ],
      "execution_count": null,
      "outputs": []
    },
    {
      "cell_type": "code",
      "metadata": {
        "id": "Zdzpcpsk8xMS"
      },
      "source": [
        "y_pred=tf.constant([1.1,20.2,230.3,120.4,500.2,6.3])\n",
        "y_true=tf.add(y_pred,tf.ones_like(y_pred))"
      ],
      "execution_count": null,
      "outputs": []
    },
    {
      "cell_type": "code",
      "metadata": {
        "id": "6peRl5ztCH_Y"
      },
      "source": [
        "tf.math.reduce_variance(y_true)"
      ],
      "execution_count": null,
      "outputs": []
    },
    {
      "cell_type": "code",
      "metadata": {
        "id": "SO6LZ3Ui9Jg0"
      },
      "source": [
        "y_true_next = y_true[1:]\n",
        "y_pred_next = y_pred[1:]\n",
        "#extract the \"today's price\" of tensor\n",
        "y_true_tdy = y_true[:-1]\n",
        "y_pred_tdy = y_pred[:-1]"
      ],
      "execution_count": null,
      "outputs": []
    },
    {
      "cell_type": "code",
      "metadata": {
        "id": "27MbA6x69szb"
      },
      "source": [
        "#substract to get up/down movement of the two tensors\n",
        "y_true_diff = tf.subtract(y_true_next, y_true_tdy)\n",
        "y_pred_diff = tf.subtract(y_pred_next, y_pred_tdy)\n",
        "#create a standard tensor with zero value for comparison\n",
        "standard = tf.zeros_like(y_pred_diff)\n",
        "#compare with the standard; if true, UP; else DOWN\n",
        "y_true_move = tf.greater_equal(y_true_diff, standard)\n",
        "y_pred_move = tf.greater_equal(y_pred_diff, standard)"
      ],
      "execution_count": null,
      "outputs": []
    },
    {
      "cell_type": "code",
      "metadata": {
        "id": "95BWrdh599c2"
      },
      "source": [
        "condition = tf.equal(y_true_move, y_pred_move)\n",
        "indices = tf.where(condition)\n",
        "ones = tf.ones_like(indices)\n",
        "indices = tf.add(indices, ones)"
      ],
      "execution_count": null,
      "outputs": []
    },
    {
      "cell_type": "code",
      "metadata": {
        "id": "n5p7PpWt-yor"
      },
      "source": [
        "direction_loss = tf.Variable(tf.ones_like(y_pred), dtype='float32')\n",
        "updates = tf.cast(tf.ones((5,)), dtype='float32')\n",
        "alpha = 1000"
      ],
      "execution_count": null,
      "outputs": []
    },
    {
      "cell_type": "code",
      "metadata": {
        "id": "wrO9cOPzAbkc"
      },
      "source": [
        "direction_loss = tf.tensor_scatter_nd_update(direction_loss, indices, alpha*updates)"
      ],
      "execution_count": null,
      "outputs": []
    },
    {
      "cell_type": "code",
      "metadata": {
        "id": "5NOpulZmGA7e"
      },
      "source": [
        "loss = tf.Variable(tf.zeros_like(y_pred), dtype='float32')"
      ],
      "execution_count": null,
      "outputs": []
    },
    {
      "cell_type": "code",
      "metadata": {
        "id": "hlWaGdd3GDuS"
      },
      "source": [
        "se=tf.sqrt(tf.subtract(y_true,y_pred))"
      ],
      "execution_count": null,
      "outputs": []
    },
    {
      "cell_type": "code",
      "metadata": {
        "id": "buyZt1ntW2O-"
      },
      "source": [
        "custom_loss = K.mean(tf.multiply(K.square(y_true - y_pred), direction_loss), axis=-1)"
      ],
      "execution_count": null,
      "outputs": []
    },
    {
      "cell_type": "markdown",
      "metadata": {
        "id": "9fXmhpZvW8YH"
      },
      "source": [
        "# **Our CostFunction**\n"
      ]
    },
    {
      "cell_type": "code",
      "metadata": {
        "id": "mzUPR15WGX83"
      },
      "source": [
        "classes_factor=[-np.inf,70.1,100.1,200.1,np.inf]\n",
        "tf.constant(classes_factor[0])"
      ],
      "execution_count": null,
      "outputs": []
    },
    {
      "cell_type": "code",
      "metadata": {
        "id": "KZDykVmfJO8X"
      },
      "source": [
        "update=tf.ones_like(index,dtype='float32')"
      ],
      "execution_count": null,
      "outputs": []
    },
    {
      "cell_type": "code",
      "metadata": {
        "id": "oxZ6ttQcGE0Q"
      },
      "source": [
        "for i in range(1, len(classes_factor)):\n",
        "            index1 = tf.where(tf.logical_and(tf.less_equal(tf.constant(classes_factor[i - 1]), y_true)\n",
        "                               , tf.greater(tf.constant(classes_factor[i]),y_true)))\n",
        "            index2 = tf.logical_and(tf.less_equal(tf.constant(classes_factor[i - 1]), y_true)\n",
        "                               , tf.greater(tf.constant(classes_factor[i]),y_true))\n",
        "            print(index)\n",
        "            update=se[index2]*i\n",
        "            print(update)\n",
        "            loss=tf.tensor_scatter_nd_update(loss, index1, update)"
      ],
      "execution_count": null,
      "outputs": []
    },
    {
      "cell_type": "code",
      "metadata": {
        "id": "awpdh221HN13"
      },
      "source": [
        "y_true"
      ],
      "execution_count": null,
      "outputs": []
    },
    {
      "cell_type": "code",
      "metadata": {
        "id": "4PZ6FbR3KKaK"
      },
      "source": [
        "loss"
      ],
      "execution_count": null,
      "outputs": []
    }
  ]
}